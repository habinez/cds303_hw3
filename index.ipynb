{
 "cells": [
  {
   "cell_type": "markdown",
   "metadata": {
    "slideshow": {
     "slide_type": "slide"
    }
   },
   "source": [
    "# <p style=\"text-align: center;color:green;\"> CDS 303: Scientific Data Mining </p>\n",
    "\n",
    "## <p style=\"text-align: center;color:green;\"> Fall 2016 </p>\n",
    "\n",
    "### <p style=\"text-align: center;color:green;\">Concorde Habineza </p>\n",
    "\n",
    "# <p style=\"text-align: center;color:green;\">  Assignement 3 : Classification </p>"
   ]
  },
  {
   "cell_type": "markdown",
   "metadata": {
    "slideshow": {
     "slide_type": "slide"
    }
   },
   "source": [
    "# <p style=\"text-align: center;color:green;\">Exercise 3.1: Decision Tree Classification </p>\n",
    "Predict the risk class of a car driver based on the following attributes:\n",
    "\n",
    "- Time since getting the driving license (1 - 2 years, 2 - 7 years, > 7 years)\n",
    "- Gender (male, female)\n",
    "- Residential area (urban, rural)\n",
    "\n",
    "The training set is given below:\n",
    "\n",
    "|Person   | Time Since licence  | Gender  | Area  | Risk class  |\n",
    "|---|---|---|---|---|\n",
    "| 1  | 1 - 2  | m  |  urban | low  |\n",
    "| 2  | 2 - 7  |  m | rural  |high   |\n",
    "| 3  | > 7  |  f | rural  |low   |\n",
    "| 4  |  1 - 2 | f  |rural   | high  |\n",
    "| 5  |  > 7 |  m | rural  |  high |\n",
    "| 6  | 1 - 2  | m  | rural  |high   |\n",
    "| 7  | 2 - 7  |  f | urban  | low  |\n",
    "| 8  | 2- 7  |  m |urban   |low   |\n"
   ]
  },
  {
   "cell_type": "markdown",
   "metadata": {
    "slideshow": {
     "slide_type": "subslide"
    }
   },
   "source": [
    "\n",
    "# <p style=\"text-align: center;color:green;\"> (a)Building the classifier: </p>\n",
    "Construct a decision tree based on this training data. \n",
    "\n",
    "For splitting, use **information gain** as measure for impurity. Build a separate branch\n",
    "for each attribute value. \n",
    "\n",
    "The decision tree shall stop when all instances in the\n",
    "branch have the same class or no further attribute for splitting is available."
   ]
  },
  {
   "cell_type": "markdown",
   "metadata": {
    "slideshow": {
     "slide_type": "slide"
    }
   },
   "source": [
    "# <p style=\"text-align: center;color:green;\"> Decision Tree Recap </p>\n",
    "\n",
    "### $\\rightarrow$  Use Information gain to determine which attribute is most useful\n",
    "\n",
    "### $\\mapsto$ _Information gain_, gain ratio, gini index, ...  as a measure of inpurity\n",
    "\n",
    "### $\\mapsto$ The resulting partition is as pure a possible \n",
    "\n",
    "All based on the degree of impurity of the parent node vs the children node"
   ]
  },
  {
   "cell_type": "markdown",
   "metadata": {
    "slideshow": {
     "slide_type": "slide"
    }
   },
   "source": [
    "# <p style=\"text-align: center;color:green;\"> Entropy, a measure of impurity </p>\n",
    "Given a collection S, containing positive and negative example of the target class, the entropy of the S is\n",
    " $$Entropy(S) = -p_\\oplus log_2(p_\\oplus) - p_\\ominus* log_2(p_\\ominus)$$\n",
    "\n",
    "$p_\\oplus$ is  proportion of positive examples of S <br>\n",
    "$p_\\ominus$ : proportion of positive examples of S"
   ]
  },
  {
   "cell_type": "markdown",
   "metadata": {
    "slideshow": {
     "slide_type": "slide"
    }
   },
   "source": [
    "# <p style=\"text-align: center;color:green;\">Entropy of the Target Class in the Training Data</p>\n",
    "\n",
    "|Person   | Time Since licence  | Gender  | Area  | Risk class  |\n",
    "|---|---|---|---|---|\n",
    "| 1  | 1 - 2  | m  |  urban | **low**  |\n",
    "| 2  | 2 - 7  |  m | rural  |_high_   |\n",
    "| 3  | > 7  |  f | rural  |**low**   |\n",
    "| 4  |  1 - 2 | f  |rural   | _high_  |\n",
    "| 5  |  > 7 |  m | rural  |  _high_ |\n",
    "| 6  | 1 - 2  | m  | rural  |_high_   |\n",
    "| 7  | 2 - 7  |  f | urban  | **low**  |\n",
    "| 8  | 2- 7  |  m |urban   |**low **  |\n",
    "\n",
    "S = [4+, 4-]\n",
    "\n",
    "$p_\\oplus = \\frac{4}{8} = 0.5$\n",
    "\n",
    "$p_\\ominus = \\frac{4}{8} = 0.5$\n",
    "\n",
    "$Entropy\\left(S\\right) = Entropy\\left([4+, 4-]\\right)= -0.5 * log_2\\left(0.5\\right) - 0.5 * log_2(0.5) = 1 $\n"
   ]
  },
  {
   "cell_type": "markdown",
   "metadata": {
    "slideshow": {
     "slide_type": "slide"
    }
   },
   "source": [
    "# <p style=\"text-align: center;color:green;\"> Information Gain, the Expected Reduction in Entropy </p>\n",
    "\n",
    "\n",
    " $$Gain(S, A) = Entropy(S) -\\sum_{v \\in Values(A) }\\frac{|S_v|}{|S|}Entropy(S)$$\n",
    "\n",
    "**$Values(A) $** is the selt of all posible value for the attribute A (class attribute)\n",
    "\n",
    "**$S_v$** is the subset of S for which attribute A has the value $v$ (i.e. $Sv = {s \\in S\\mid A(s) = v}$)\n"
   ]
  },
  {
   "cell_type": "markdown",
   "metadata": {
    "slideshow": {
     "slide_type": "slide"
    }
   },
   "source": [
    "# <p style=\"text-align: center;color:green;\"> Information Gain for the ` Time since licence `</p>\n",
    "|Person   | Time Since licence  | Gender  | Area  | Risk class  |\n",
    "|---|---|---|---|---|\n",
    "| 1  | 1 - 2  | m  |  urban | low  |\n",
    "| 2  | 2 - 7  |  m | rural  |_high_   |\n",
    "| 3  | > 7  |  f | rural  |low  |\n",
    "| 4  |  1 - 2 | f  |rural   | _high_  |\n",
    "| 5  |  > 7 |  m | rural  |  _high_ |\n",
    "| 6  | 1 - 2  | m  | rural  |_high_   |\n",
    "| 7  | 2 - 7  |  f | urban  | low |\n",
    "| 8  | 2- 7  |  m |urban   |low   |\n",
    "\n",
    "| Values(A)  | $S_v$   | Entropy($S_v)$  | $\\frac{\\mid S_v\\mid }{\\mid S\\mid}$| $\\frac{\\mid S_v\\mid}{\\mid S\\mid}Entropy(S_v)$|\n",
    "|---|---|---|\n",
    "| 1 - 2  |2+, 1-   | 0.918  | 3/8|0.34436093777043358|\n",
    "| 2 - 7  |1+, 2-   | 0.918  | 3/8| 0.34436093777043358|\n",
    "| > 7  | 1+, 1- | 1  | 3/8|0.25|\n",
    "\n",
    "\n",
    "\n",
    "$Gain\\left(S, A\\right) = 1 - \\left(0.3443609378 + 0.3443609378 + 0.25 \\right) = 0.06127$\n"
   ]
  },
  {
   "cell_type": "markdown",
   "metadata": {
    "slideshow": {
     "slide_type": "slide"
    }
   },
   "source": [
    "# <p style=\"text-align: center;color:green;\"> Information Gain for the ` Gender `</p>\n",
    "|Person   | Time Since licence  | Gender  | Area  | Risk class  |\n",
    "|---|---|---|---|---|\n",
    "| 1  | 1 - 2  | m  |  urban | low  |\n",
    "| 2  | 2 - 7  |  m | rural  |_high_   |\n",
    "| 3  | > 7  |  f | rural  |low  |\n",
    "| 4  |  1 - 2 | f  |rural   | _high_  |\n",
    "| 5  |  > 7 |  m | rural  |  _high_ |\n",
    "| 6  | 1 - 2  | m  | rural  |_high_   |\n",
    "| 7  | 2 - 7  |  f | urban  | low |\n",
    "| 8  | 2- 7  |  m |urban   |low   |\n",
    "\n",
    "| Values(A)  | $S_v$   | Entropy($S_v)$  | $\\frac{\\mid S_v\\mid }{\\mid S\\mid}$| $\\frac{\\mid S_v\\mid}{\\mid S\\mid}Entropy(S_v)$|\n",
    "|---|---|---|\n",
    "| m  |3+, 2-   | 0.971  | 5/8|0.6068|\n",
    "| f  |1+, 2-   | 0.918  | 3/8|0.3443|\n",
    "\n",
    "\n",
    "\n",
    "$Gain\\left(Risk Class, Gender\\right) = 1 - \\left(0.6068+ 0.3443\\right) = 0.0488$\n"
   ]
  },
  {
   "cell_type": "code",
   "execution_count": 3,
   "metadata": {
    "collapsed": false,
    "slideshow": {
     "slide_type": "subslide"
    }
   },
   "outputs": [
    {
     "name": "stdout",
     "output_type": "stream",
     "text": [
      "0.0487949406954\n"
     ]
    }
   ],
   "source": [
    "e_sv1 = -3./5 * np.log2(3./5) - 2./5 *np.log2(2./5 )\n",
    "e_sv2 = -1./3 * np.log2(1./3) - 2./3 *np.log2(2./3)\n",
    "gain = 1 - (5./8 *e_sv1 + 3./8 * e_sv2)\n",
    "print (gain)"
   ]
  },
  {
   "cell_type": "markdown",
   "metadata": {
    "slideshow": {
     "slide_type": "slide"
    }
   },
   "source": [
    "# <p style=\"text-align: center;color:green;\"> Information Gain for the ` Area`</p>\n",
    "|Person   | Time Since licence  | Gender  | Area  | Risk class  |\n",
    "|---|---|---|---|---|\n",
    "| 1  | 1 - 2  | m  |  urban | low  |\n",
    "| 2  | 2 - 7  |  m | rural  |_high_   |\n",
    "| 3  | > 7  |  f | rural  |low  |\n",
    "| 4  |  1 - 2 | f  |rural   | _high_  |\n",
    "| 5  |  > 7 |  m | rural  |  _high_ |\n",
    "| 6  | 1 - 2  | m  | rural  |_high_   |\n",
    "| 7  | 2 - 7  |  f | urban  | low |\n",
    "| 8  | 2- 7  |  m |urban   |low   |\n",
    "\n",
    "| Values(A)  | $S_v$   | Entropy($S_v)$  | $\\frac{\\mid S_v\\mid }{\\mid S\\mid}$|\n",
    "|---|---|---|\n",
    "| urban  |0+, 3-   | 0  | 3/8|\n",
    "| rural  |4+, 1-   | 0.722  | 5/8|\n",
    "\n",
    "\n",
    "$Gain\\left(Risk Class, Area\\right) = 1 - \\left(0 + 0.722*5/8\\right) = 0.5488$\n"
   ]
  },
  {
   "cell_type": "markdown",
   "metadata": {
    "slideshow": {
     "slide_type": "slide"
    }
   },
   "source": [
    "# <p style=\"text-align: center;color:green;\"> Area is the Root Node</p>\n",
    "\n",
    "$Gain\\left(Risk Class, Area\\right)= 0.5488$ <br>\n",
    "$Gain\\left(Risk Class, Time since licence\\right)= 0.06127$ <br>\n",
    "$Gain\\left(Risk Class, Gender\\right)= 0.0488$ <br>\n",
    "\n",
    "Area attribute has the highest information gain compared to other attributes \n",
    "\n",
    "             area\n",
    "            /    \\\n",
    "    urban? /      \\ rural?\n",
    "          /        \\\n",
    "         /          \\\n",
    "     entropy = 0     entropy = -1./5 * log2(1./5) - 4./5 *log2(4./5) = 0.722\n",
    "     low\n",
    "\n",
    "We only have to create branches below the root node where the area = rural"
   ]
  },
  {
   "cell_type": "markdown",
   "metadata": {
    "slideshow": {
     "slide_type": "slide"
    }
   },
   "source": [
    "# <p style=\"text-align: center;color:green;\"> Info Gain for the ` Time since licence, area=rural`</p>\n",
    "|Person   | Time Since licence  | Gender  | Area  | Risk class  |\n",
    "|---|---|---|---|---|\n",
    "| 2  | 2 - 7  |  m | rural  |_high_   |\n",
    "| 3  | > 7  |  f | rural  |low  |\n",
    "| 4  |  1 - 2 | f  |rural   | _high_  |\n",
    "| 5  |  > 7 |  m | rural  |  _high_ |\n",
    "| 6  | 1 - 2  | m  | rural  |_high_   |\n",
    "\n",
    "| Values(A)  | $S_v$   | Entropy($S_v)$  | $\\frac{\\mid S_v\\mid }{\\mid S\\mid}$| \n",
    "|---|---|---|\n",
    "| 1 - 2  |2+, 0-   | 0  | 2/5|\n",
    "| 2 - 7  |1+, 0-   | 0  |1/5|\n",
    "| > 7  | 1+, 1- | 1  | 2/5|\n",
    "\n",
    "\n",
    "\n",
    "$Gain\\left(S, Time since licence\\right) = 0.722 - \\left(0+ 0 + 2/5\\right) = 0.322$\n"
   ]
  },
  {
   "cell_type": "markdown",
   "metadata": {
    "slideshow": {
     "slide_type": "slide"
    }
   },
   "source": [
    "# <p style=\"text-align: center;color:green;\"> Information Gain for the ` Gender` Having Area=Rural</p>\n",
    "|Person   | Time Since licence  | Gender  | Area  | Risk class  |\n",
    "|---|---|---|---|---|\n",
    "| 2  | 2 - 7  |  m | rural  |_high_   |\n",
    "| 3  | > 7  |  f | rural  |low  |\n",
    "| 4  |  1 - 2 | f  |rural   | _high_  |\n",
    "| 5  |  > 7 |  m | rural  |  _high_ |\n",
    "| 6  | 1 - 2  | m  | rural  |_high_   |\n",
    "\n",
    "| Values(A)  | $S_v$   | Entropy($S_v)$  | $\\frac{\\mid S_v\\mid }{\\mid S\\mid}$|\n",
    "|---|---|---|\n",
    "| m  |3+, 0-   | 0  | 3/5|\n",
    "| f  |1+, 1-   | 1  |2/5|\n",
    "\n",
    "\n",
    "\n",
    "$Gain\\left(S, Gender\\right) = 0.722 - 0.4 = 0.322$\n"
   ]
  },
  {
   "cell_type": "markdown",
   "metadata": {
    "slideshow": {
     "slide_type": "slide"
    }
   },
   "source": [
    "# <p style=\"text-align: center;color:green;\">  Second Split Decision  </p>\n",
    "\n",
    "There is a tie between the gender and time since licence. Lets break the tie by arbitrary choosing the `Gender`\n",
    "\n",
    "The tree at the second split become \n",
    "                        \n",
    "                     area\n",
    "                    /    \\\n",
    "            urban? /      \\ rural?\n",
    "                  /        \\\n",
    "                 /          \\\n",
    "                /            \\\n",
    "             low             gender\n",
    "                             /      \\\n",
    "                            /        \\\n",
    "                           m          f\n",
    "                          /            \\\n",
    "                         /              \\\n",
    "               entropy= 0                 entropy = 1\n",
    "               \n",
    "Notice that we do not have to branch when the gender is male and area is rural. \n",
    "\n",
    "We could have broken the tie by splitting with `Time since licence` and the tree would have been different. "
   ]
  },
  {
   "cell_type": "markdown",
   "metadata": {
    "slideshow": {
     "slide_type": "slide"
    }
   },
   "source": [
    "\n",
    "# <p style=\"text-align: center;color:green;\"> 3rd Split </p>\n",
    "\n",
    "                    area\n",
    "                    /    \\\n",
    "            urban? /      \\ rural?\n",
    "                  /        \\\n",
    "                 /          \\\n",
    "                /            \\\n",
    "             low             gender\n",
    "                             /      \\\n",
    "                            /        \\\n",
    "                           m          f\n",
    "                          /            \\\n",
    "                         /              \\\n",
    "                       high                 entropy = 1\n",
    "|Person   | Time Since licence  | Gender  | Area  | Risk class  |\n",
    "|---|---|---|---|---|\n",
    "| 3  | > 7  |  f | rural  |low  |\n",
    "| 4  |  1 - 2 | f  |rural   | _high_  |\n",
    "\n",
    "| Values(A)  | $S_v$   | Entropy($S_v)$  | $\\frac{\\mid S_v\\mid }{\\mid S\\mid}$|\n",
    "|---|---|---|\n",
    "| > 7  |0+, 1-   | 0  | 1/2| \n",
    "| 1- 2 |1+, 0-   | 0  |1/2 |\n",
    "\n",
    "$Gain\\left(S, Time Since Licence\\right) = 1 - 0 = 1$"
   ]
  },
  {
   "cell_type": "markdown",
   "metadata": {
    "slideshow": {
     "slide_type": "slide"
    }
   },
   "source": [
    "# <p style=\"text-align: center;color:green;\"> Final Tree </p>\n",
    "                            area\n",
    "                            /    \\\n",
    "                    urban? /      \\ rural?\n",
    "                          /        \\\n",
    "                        /            \\\n",
    "                     low             gender\n",
    "                                     /      \\\n",
    "                                    /        \\\n",
    "                                   m          f\n",
    "                                  /            \\\n",
    "                                 /              \\\n",
    "                               high            time since licence\n",
    "                                               /    \\\n",
    "                                              /      \\\n",
    "                                             >7       1-2\n",
    "                                            /          \\\n",
    "                                           /            \\ \n",
    "                                          low            high                                 \n",
    " The results are different if you chose `time since licence` over `gender ` at the second split"
   ]
  },
  {
   "cell_type": "markdown",
   "metadata": {
    "collapsed": false,
    "slideshow": {
     "slide_type": "slide"
    }
   },
   "source": [
    "# <p style=\"text-align: center;color:green;\"> (B) Classification </p>\n",
    "\n",
    "\n",
    " <p style=\"text-align: left;color:green;\">Person A:</p> \n",
    " - Time since licence : 1-2\n",
    " - Gender : f\n",
    " - Area: rural\n",
    " - ** Risk class: high**\n",
    " \n",
    "<p style=\"text-align: left;color:green;\">Person B:</p> \n",
    " - Time since licence : 2-7\n",
    " - Gender : m\n",
    " - Area: urban\n",
    " - ** Risk class: low**\n",
    "\n",
    "\n",
    "<p style=\"text-align: left;color:green;\">Person C:</p> \n",
    " - Time since licence : 1-2\n",
    " - Gender : f\n",
    " - Area: urban\n",
    " - ** Risk class: low**"
   ]
  },
  {
   "cell_type": "markdown",
   "metadata": {
    "collapsed": true,
    "slideshow": {
     "slide_type": "slide"
    }
   },
   "source": [
    "# <p style=\"text-align: center;color:green;\">References </p> \n",
    "+ T. M. Mitchell, _\"Decision Tree Learning\"_, in Machine Learning, McGraw-Hill, Inc., New York, NY, 1997 p. 52-60\n",
    "<br>\n",
    "+ M. Renz, Lecture 5: Classification, CDS\t303 Scientific\tData\tMining"
   ]
  },
  {
   "cell_type": "markdown",
   "metadata": {
    "collapsed": false,
    "slideshow": {
     "slide_type": "slide"
    }
   },
   "source": [
    "\n",
    "# <p style=\"text-align: center;color:green;\">Exercise 3.2: Evaluation of Classifier </p> \n",
    "\n",
    "Given a da ta set with known class labels of the objects (column Object class in tables\n",
    "below). In order to evaluate the quality of a classifier K, each object is classified using K\n",
    "(column K(o)).\n",
    "The results are given in the table (all three columns) below\n",
    "\n",
    "![table 1](table.PNG)\n",
    "\n",
    "Using the table (all three columns) above, compute:\n",
    " - accuracy:\n",
    " - error rate\n",
    " - precision\n",
    " - recall, and\n",
    " - F1-measure for each class."
   ]
  },
  {
   "cell_type": "markdown",
   "metadata": {
    "slideshow": {
     "slide_type": "slide"
    }
   },
   "source": [
    "# <p style=\"text-align: center;color:green;\">Confusion Matrix for Each Class </p> \n",
    "\n",
    "\n",
    "|Class   | A  | B  | C  |\n",
    "|---:   |:-------------:  |-----  |\n",
    "| A   | 4  |  0 | 1  |\n",
    "| B  |  2 | 2  |  1 |\n",
    "| C  | 1  | 1  |  3 |\n",
    "\n",
    "| Class \t|  True Positive \t|   True Negative\t|  False Positive \t| False Negative  \t|  Accuracy \t| Error Rate   \t| Precision   \t| Recall | F1-measure|\n",
    "|--:\t|---\t|---\t|---\t|---\t|---\t|---\t|---\t| ---\t| ---\t|\n",
    "| A  \t|  4 \t|   7\t|  3 \t|  1 \t|   \t|   \t|   \t|       |      |\n",
    "|  B \t|   2\t|   9\t|   1\t|  3 \t|   \t|   \t|   \t|        |      |\n",
    "|  C \t|   3\t|   8\t|   2\t|   2\t|  \t    |    \t|   \t|        |      |\n",
    "\n",
    "\n",
    "TP: A that were classified as A <br>\n",
    "TN: B or C that were classified as B or C (not A)<br>\n",
    "FP: B or C that were classified as  A <br>\n",
    "FN: A that were classified as B or C (not A)\n",
    "\n",
    "| | A  | B  or  C  |\n",
    "|---:   |:-------------:  |\n",
    "| A   | 4  |   1  |\n",
    "| B or C  |  3 | 7|"
   ]
  },
  {
   "cell_type": "markdown",
   "metadata": {
    "slideshow": {
     "slide_type": "slide"
    }
   },
   "source": [
    "# <p style=\"text-align: center;color:green;\">Accuracy </p>\n",
    "\n",
    "$$Accuracy = \\frac{TP + TN}{P + N}$$\n",
    "\n",
    "P + N = 15\n",
    "\n",
    "\n",
    "| Class \t|  True Positive \t|   True Negative\t|  False Positive \t| False Negative  \t|  Accuracy \t| \n",
    "|--:\t|---\t|---\t|---\t|---\t|---\t|\n",
    "| A  \t|  4 \t|   7\t|  3 \t|  1 \t| 0.733\t|   \t   \n",
    "|  B \t|   2\t|   9\t|   1\t|  3 \t| 0.733 |   \t   \t\n",
    "|  C \t|   3\t|   8\t|   2\t|   2\t| 0.733 |\t        \n"
   ]
  },
  {
   "cell_type": "markdown",
   "metadata": {
    "slideshow": {
     "slide_type": "slide"
    }
   },
   "source": [
    "# <p style=\"text-align: center;color:green;\">Error Rate </p>\n",
    "\n",
    "$$Error Rate= \\frac{FP + FN}{P + N}$$\n",
    "\n",
    "P + N = 15\n",
    "\n",
    "\n",
    "| Class \t|  True Positive \t|   True Negative\t|  False Positive \t| False Negative  \t|  Accuracy \t| Error Rate   \t| \n",
    "|--:\t|---\t|---\t|---\t|---\t|---\t|---\t|--\n",
    "| A  \t|  4 \t|   7\t|  3 \t|  1 \t| 0.733\t| 0.267 |   \t\n",
    "|  B \t|   2\t|   9\t|   1\t|  3 \t| 0.733 | 0.267\t|   \t\n",
    "|  C \t|   3\t|   8\t|   2\t|   2\t| 0.733 | 0.267 |    \t"
   ]
  },
  {
   "cell_type": "markdown",
   "metadata": {
    "slideshow": {
     "slide_type": "slide"
    }
   },
   "source": [
    "# <p style=\"text-align: center;color:green;\">Precision and Recall </p>\n",
    "\n",
    "$$Precision = \\frac{TP}{TP + FP}$$\n",
    "\n",
    "\n",
    "$Precision (A) = \\frac{4}{4+3} = 0.571$ <br>\n",
    "\n",
    "$$Recall = \\frac{TP}{TP + FN}$$\n",
    "$Recall (A) = \\frac{4}{4+1} = 0.8$\n",
    "\n",
    "\n",
    "| Class \t|  True Positive \t|   True Negative\t|  False Positive \t| False Negative  \t|  Accuracy \t| Error Rate   \t| Precision   \t| Recall |\n",
    "|--:\t|---\t|---\t|---\t|---\t|---\t|---\t|---\t| ---\t|\n",
    "| A  \t|  4 \t|   7\t|  3 \t|  1 \t|0.733 \t|0.267\t| 0.571 |  0.8  |     \n",
    "|  B \t|   2\t|   9\t|   1\t|  3 \t|0.733 \t|0.267\t| 0.667 |  0.4  |     \n",
    "|  C \t|   3\t|   8\t|   2\t|   2\t|0.733  |0.267  | 0.600\t|  0.6  |     \n",
    "\n",
    "\n",
    "Recall in this context is also referred to as the true positive rate or sensitivity, and precision is also referred to as positive predictive value (PPV);"
   ]
  },
  {
   "cell_type": "markdown",
   "metadata": {
    "slideshow": {
     "slide_type": "slide"
    }
   },
   "source": [
    "# <p style=\"text-align: center;color:green;\">F1 measure </p>\n",
    "\n",
    "$$F_1 measure = \\frac{2* Precision * recall}{Precision + recall}$$\n",
    "\n",
    "\n",
    "$F_1 measure  (A) = \\frac{2* 0.571 * 0.8}{0.571 + 0.8} = 0.667$ <br>\n",
    "\n",
    "| Class \t|  True Positive \t|   True Negative\t|  False Positive \t| False Negative  \t|  Accuracy \t| Error Rate   \t| Precision   \t| Recall | F1-measure|\n",
    "|--:\t|---\t|---\t|---\t|---\t|---\t|---\t|---\t| ---\t| ---  |\n",
    "| A  \t|  4 \t|   7\t|  3 \t|  1 \t|0.733 \t|0.267\t| 0.571 |  0.8  | 0.667   |\n",
    "|  B \t|   2\t|   9\t|   1\t|  3 \t|0.733 \t|0.267\t| 0.667 |  0.4  | 0.5     |\n",
    "|  C \t|   3\t|   8\t|   2\t|   2\t|0.733  |0.267  | 0.600 |  0.6  | 0.6    | \n"
   ]
  },
  {
   "cell_type": "markdown",
   "metadata": {
    "slideshow": {
     "slide_type": "slide"
    }
   },
   "source": [
    "# <p style=\"text-align: center;color:green;\">Exercise 3.3: k-NN Classification </p>\n",
    "\n",
    "The 2D feature vectors in the figure below belong to two different classes (circles and\n",
    "rectangles).\n",
    "\n",
    "Classify the object at (6; 6) — in the image represented using a triangle —\n",
    "using k nearest neighbor classification (k = 4, k =7 and k = 10). \n",
    "\n",
    "Use Manhattan distance (L1 norm) as distance\n",
    "function, and **use the non-weighted class counts in the k-nearest neighbor set**, i.e.\n",
    "the object is assigned to the majority class within the k nearest neighbors \n",
    "\n",
    "![table 1](table2.PNG)"
   ]
  },
  {
   "cell_type": "markdown",
   "metadata": {
    "slideshow": {
     "slide_type": "slide"
    }
   },
   "source": [
    "# <p style=\"text-align: center;color:green;\">k-NN Classification with k = 4</p>\n",
    "![table 1](table2.PNG)\n",
    "\n",
    "### Neighbors: 4 Circles, 0 rectangle\n",
    "\n",
    "### The image is a **circle**"
   ]
  },
  {
   "cell_type": "markdown",
   "metadata": {
    "slideshow": {
     "slide_type": "slide"
    }
   },
   "source": [
    "# <p style=\"text-align: center;color:green;\">k-NN Classification with k = 7</p>\n",
    "![table 1](table2.PNG)\n",
    "\n",
    "### Neighbors: 4 Circles, 3 rectangles\n",
    "\n",
    "### The image is a **circle**"
   ]
  },
  {
   "cell_type": "markdown",
   "metadata": {
    "slideshow": {
     "slide_type": "slide"
    }
   },
   "source": [
    "# <p style=\"text-align: center;color:green;\">k-NN Classification with k = 10</p>\n",
    "\n",
    "\n",
    "### Neighbors: 4 Circles, 6 rectangles\n",
    "\n",
    "### The image is a **rectangle**\n",
    "\n",
    "![table 1](table2.PNG)"
   ]
  },
  {
   "cell_type": "markdown",
   "metadata": {
    "slideshow": {
     "slide_type": "slide"
    }
   },
   "source": [
    "# <p style=\"text-align: center;color:green;\"> B) Using the weighted class votes using $w=1/d^2$</p>\n",
    "\n",
    "The 2D feature vectors in the figure below belong to two different classes (circles and\n",
    "rectangles).\n",
    "\n",
    "Classify the object at (6; 6) — in the image represented using a triangle —\n",
    "using k nearest neighbor classification (k = 4, k =7 and k = 10). \n",
    "\n",
    "Use Manhattan distance (L1 norm) as distance function, and ** the weighted class votes using $w=1/d^2$** as weight factor for each vote.\n",
    "![table 1](table2.PNG)"
   ]
  },
  {
   "cell_type": "markdown",
   "metadata": {
    "slideshow": {
     "slide_type": "slide"
    }
   },
   "source": [
    "# <p style=\"text-align: center;color:green;\"> B) k = 4, Using the Weight $w=1/d^2$</p>\n",
    "There is one circle at d = 1, and 3 circles at d = 2. \n",
    "\n",
    "\n",
    "The weight of the circles is $w= 1 + 3* \\frac{1}{4} = 1.75$\n",
    "\n",
    "We classify the image as a **circle**\n",
    "![table 1](table2.PNG)"
   ]
  },
  {
   "cell_type": "markdown",
   "metadata": {
    "slideshow": {
     "slide_type": "slide"
    }
   },
   "source": [
    "# <p style=\"text-align: center;color:green;\"> B) K = 7, Using the Weight $w=1/d^2$</p>\n",
    "\n",
    "- There is one circle at d = 1, and 3 circles at d = 2.\n",
    "- There are three rectangles at d = 3.\n",
    "\n",
    "The weight of the circles is $w= 1 + 3* \\frac{1}{4} = 1.75$\n",
    "\n",
    "The weight of the circles is $w= 3* \\frac{1}{3^2} = 0.333$\n",
    "\n",
    "We classify the image as a **circle**\n",
    "![table 1](table2.PNG)"
   ]
  },
  {
   "cell_type": "markdown",
   "metadata": {
    "slideshow": {
     "slide_type": "slide"
    }
   },
   "source": [
    "# <p style=\"text-align: center;color:green;\"> B) k = 10, Using the Weight $w=1/d^2$</p>\n",
    "\n",
    "- There is one circle at d = 1, and 3 circles at d = 2.\n",
    "- There are three rectangles at d = 3 and three rectangle at d = 5\n",
    "\n",
    "\n",
    "The weight of the circles is $w= 1 + 3* \\frac{1}{4} = 1.75$\n",
    "\n",
    "The weight of the circles is $w= 3* \\frac{1}{3^2} + 3* \\frac{1}{5^2}= 0.453$\n",
    "\n",
    "We classify the image as a **circle**\n",
    "\n",
    "![table 1](table2.PNG)"
   ]
  },
  {
   "cell_type": "markdown",
   "metadata": {
    "slideshow": {
     "slide_type": "slide"
    }
   },
   "source": [
    "# <p style=\"text-align: center;color:green;\"> Comparing the Two Schemas</p>\n",
    "\n",
    "|   \t| Non-weighted class counts  \t|  Weighted class votes using, $w=1/d^2$ \t|\n",
    "|--:\t|:---:\t|:---:\t|\n",
    "| k=4\t|  circle \t|  circle  \t|\n",
    "| k=7\t|  circle \t|  circle  \t|\n",
    "| k = 10| **rectangle** \t|   circle \t|"
   ]
  }
 ],
 "metadata": {
  "celltoolbar": "Slideshow",
  "kernelspec": {
   "display_name": "Python 3",
   "language": "python",
   "name": "python3"
  },
  "language_info": {
   "codemirror_mode": {
    "name": "ipython",
    "version": 3
   },
   "file_extension": ".py",
   "mimetype": "text/x-python",
   "name": "python",
   "nbconvert_exporter": "python",
   "pygments_lexer": "ipython3",
   "version": "3.5.1"
  }
 },
 "nbformat": 4,
 "nbformat_minor": 0
}
